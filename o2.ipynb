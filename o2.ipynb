{
 "cells": [
  {
   "cell_type": "markdown",
   "metadata": {},
   "source": [
    "## Clustering the Gapminder Dataset"
   ]
  },
  {
   "cell_type": "markdown",
   "metadata": {},
   "source": [
    "**Enter your name here:**\n",
    "\n",
    "- First Name: Dmitri\n",
    "- Name: Grigoriev\n"
   ]
  },
  {
   "cell_type": "code",
   "execution_count": 2,
   "metadata": {},
   "outputs": [],
   "source": [
    "# libraries\n",
    "import matplotlib.pyplot as plt\n",
    "import numpy as np\n",
    "import pandas as pd\n",
    "import seaborn as sns\n",
    "\n",
    "from sklearn.manifold import TSNE\n",
    "from sklearn.decomposition import PCA\n",
    "from sklearn.preprocessing import StandardScaler, PowerTransformer\n",
    "from sklearn.pipeline import Pipeline\n"
   ]
  },
  {
   "cell_type": "markdown",
   "metadata": {},
   "source": [
    "### Import the Gapminder Data of 1995\n",
    "\n",
    "The dataset is a subset of the [gapminder dataset](https://www.gapminder.org/) from the year 1995.\n",
    "- The data is provided as a csv-File `GM1995.csv` in the rar-archive.\n",
    "- Place the data file in the same directory as the jupyter notebook.\n",
    "- Answer the questions directly in the Jupyter notebook.\n",
    "\n",
    "We read the data using `pandas.read_csv`."
   ]
  },
  {
   "cell_type": "code",
   "execution_count": 3,
   "metadata": {},
   "outputs": [
    {
     "data": {
      "text/html": [
       "<div>\n",
       "<style scoped>\n",
       "    .dataframe tbody tr th:only-of-type {\n",
       "        vertical-align: middle;\n",
       "    }\n",
       "\n",
       "    .dataframe tbody tr th {\n",
       "        vertical-align: top;\n",
       "    }\n",
       "\n",
       "    .dataframe thead th {\n",
       "        text-align: right;\n",
       "    }\n",
       "</style>\n",
       "<table border=\"1\" class=\"dataframe\">\n",
       "  <thead>\n",
       "    <tr style=\"text-align: right;\">\n",
       "      <th></th>\n",
       "      <th>Country</th>\n",
       "      <th>Year</th>\n",
       "      <th>fertility</th>\n",
       "      <th>life</th>\n",
       "      <th>population</th>\n",
       "      <th>child_mortality</th>\n",
       "      <th>gdp</th>\n",
       "      <th>region</th>\n",
       "      <th>CountryCode</th>\n",
       "    </tr>\n",
       "  </thead>\n",
       "  <tbody>\n",
       "    <tr>\n",
       "      <th>31</th>\n",
       "      <td>Afghanistan</td>\n",
       "      <td>1995</td>\n",
       "      <td>7.832</td>\n",
       "      <td>52.400</td>\n",
       "      <td>19789880.0</td>\n",
       "      <td>152.3</td>\n",
       "      <td>872.0</td>\n",
       "      <td>South Asia</td>\n",
       "      <td>AFG</td>\n",
       "    </tr>\n",
       "    <tr>\n",
       "      <th>81</th>\n",
       "      <td>Albania</td>\n",
       "      <td>1995</td>\n",
       "      <td>2.723</td>\n",
       "      <td>72.117</td>\n",
       "      <td>3141102.0</td>\n",
       "      <td>33.2</td>\n",
       "      <td>3941.0</td>\n",
       "      <td>Europe &amp; Central Asia</td>\n",
       "      <td>ALB</td>\n",
       "    </tr>\n",
       "    <tr>\n",
       "      <th>131</th>\n",
       "      <td>Algeria</td>\n",
       "      <td>1995</td>\n",
       "      <td>3.449</td>\n",
       "      <td>67.893</td>\n",
       "      <td>28291591.0</td>\n",
       "      <td>42.6</td>\n",
       "      <td>9168.0</td>\n",
       "      <td>Middle East &amp; North Africa</td>\n",
       "      <td>DZA</td>\n",
       "    </tr>\n",
       "    <tr>\n",
       "      <th>181</th>\n",
       "      <td>Angola</td>\n",
       "      <td>1995</td>\n",
       "      <td>7.019</td>\n",
       "      <td>42.073</td>\n",
       "      <td>12105105.0</td>\n",
       "      <td>224.8</td>\n",
       "      <td>2859.0</td>\n",
       "      <td>Sub-Saharan Africa</td>\n",
       "      <td>AGO</td>\n",
       "    </tr>\n",
       "    <tr>\n",
       "      <th>231</th>\n",
       "      <td>Antigua and Barbuda</td>\n",
       "      <td>1995</td>\n",
       "      <td>2.208</td>\n",
       "      <td>72.441</td>\n",
       "      <td>68642.0</td>\n",
       "      <td>19.7</td>\n",
       "      <td>17167.0</td>\n",
       "      <td>America</td>\n",
       "      <td>ATG</td>\n",
       "    </tr>\n",
       "  </tbody>\n",
       "</table>\n",
       "</div>"
      ],
      "text/plain": [
       "                 Country  Year  fertility    life  population  \\\n",
       "31           Afghanistan  1995      7.832  52.400  19789880.0   \n",
       "81               Albania  1995      2.723  72.117   3141102.0   \n",
       "131              Algeria  1995      3.449  67.893  28291591.0   \n",
       "181               Angola  1995      7.019  42.073  12105105.0   \n",
       "231  Antigua and Barbuda  1995      2.208  72.441     68642.0   \n",
       "\n",
       "     child_mortality      gdp                      region CountryCode  \n",
       "31             152.3    872.0                  South Asia         AFG  \n",
       "81              33.2   3941.0       Europe & Central Asia         ALB  \n",
       "131             42.6   9168.0  Middle East & North Africa         DZA  \n",
       "181            224.8   2859.0          Sub-Saharan Africa         AGO  \n",
       "231             19.7  17167.0                     America         ATG  "
      ]
     },
     "execution_count": 3,
     "metadata": {},
     "output_type": "execute_result"
    }
   ],
   "source": [
    "df = pd.read_csv(\"GM1995.csv\",index_col=0)\n",
    "df.head()"
   ]
  },
  {
   "cell_type": "code",
   "execution_count": 4,
   "metadata": {},
   "outputs": [
    {
     "data": {
      "text/html": [
       "<div>\n",
       "<style scoped>\n",
       "    .dataframe tbody tr th:only-of-type {\n",
       "        vertical-align: middle;\n",
       "    }\n",
       "\n",
       "    .dataframe tbody tr th {\n",
       "        vertical-align: top;\n",
       "    }\n",
       "\n",
       "    .dataframe thead th {\n",
       "        text-align: right;\n",
       "    }\n",
       "</style>\n",
       "<table border=\"1\" class=\"dataframe\">\n",
       "  <thead>\n",
       "    <tr style=\"text-align: right;\">\n",
       "      <th></th>\n",
       "      <th>Year</th>\n",
       "      <th>fertility</th>\n",
       "      <th>life</th>\n",
       "      <th>population</th>\n",
       "      <th>child_mortality</th>\n",
       "      <th>gdp</th>\n",
       "    </tr>\n",
       "  </thead>\n",
       "  <tbody>\n",
       "    <tr>\n",
       "      <th>count</th>\n",
       "      <td>178.0</td>\n",
       "      <td>178.000000</td>\n",
       "      <td>178.000000</td>\n",
       "      <td>1.780000e+02</td>\n",
       "      <td>178.000000</td>\n",
       "      <td>178.000000</td>\n",
       "    </tr>\n",
       "    <tr>\n",
       "      <th>mean</th>\n",
       "      <td>1995.0</td>\n",
       "      <td>3.630568</td>\n",
       "      <td>65.461394</td>\n",
       "      <td>3.139590e+07</td>\n",
       "      <td>66.639888</td>\n",
       "      <td>12782.157303</td>\n",
       "    </tr>\n",
       "    <tr>\n",
       "      <th>std</th>\n",
       "      <td>0.0</td>\n",
       "      <td>1.848123</td>\n",
       "      <td>10.086426</td>\n",
       "      <td>1.194917e+08</td>\n",
       "      <td>66.376047</td>\n",
       "      <td>16820.173502</td>\n",
       "    </tr>\n",
       "    <tr>\n",
       "      <th>min</th>\n",
       "      <td>1995.0</td>\n",
       "      <td>1.039000</td>\n",
       "      <td>35.825000</td>\n",
       "      <td>6.864200e+04</td>\n",
       "      <td>4.800000</td>\n",
       "      <td>142.000000</td>\n",
       "    </tr>\n",
       "    <tr>\n",
       "      <th>25%</th>\n",
       "      <td>1995.0</td>\n",
       "      <td>1.886000</td>\n",
       "      <td>57.800750</td>\n",
       "      <td>1.964164e+06</td>\n",
       "      <td>15.225000</td>\n",
       "      <td>2190.250000</td>\n",
       "    </tr>\n",
       "    <tr>\n",
       "      <th>50%</th>\n",
       "      <td>1995.0</td>\n",
       "      <td>3.240000</td>\n",
       "      <td>68.182000</td>\n",
       "      <td>5.931078e+06</td>\n",
       "      <td>38.900000</td>\n",
       "      <td>6154.500000</td>\n",
       "    </tr>\n",
       "    <tr>\n",
       "      <th>75%</th>\n",
       "      <td>1995.0</td>\n",
       "      <td>5.040750</td>\n",
       "      <td>72.713000</td>\n",
       "      <td>1.946537e+07</td>\n",
       "      <td>107.500000</td>\n",
       "      <td>15096.500000</td>\n",
       "    </tr>\n",
       "    <tr>\n",
       "      <th>max</th>\n",
       "      <td>1995.0</td>\n",
       "      <td>7.832000</td>\n",
       "      <td>79.760000</td>\n",
       "      <td>1.213987e+09</td>\n",
       "      <td>279.500000</td>\n",
       "      <td>106425.000000</td>\n",
       "    </tr>\n",
       "  </tbody>\n",
       "</table>\n",
       "</div>"
      ],
      "text/plain": [
       "         Year   fertility        life    population  child_mortality  \\\n",
       "count   178.0  178.000000  178.000000  1.780000e+02       178.000000   \n",
       "mean   1995.0    3.630568   65.461394  3.139590e+07        66.639888   \n",
       "std       0.0    1.848123   10.086426  1.194917e+08        66.376047   \n",
       "min    1995.0    1.039000   35.825000  6.864200e+04         4.800000   \n",
       "25%    1995.0    1.886000   57.800750  1.964164e+06        15.225000   \n",
       "50%    1995.0    3.240000   68.182000  5.931078e+06        38.900000   \n",
       "75%    1995.0    5.040750   72.713000  1.946537e+07       107.500000   \n",
       "max    1995.0    7.832000   79.760000  1.213987e+09       279.500000   \n",
       "\n",
       "                 gdp  \n",
       "count     178.000000  \n",
       "mean    12782.157303  \n",
       "std     16820.173502  \n",
       "min       142.000000  \n",
       "25%      2190.250000  \n",
       "50%      6154.500000  \n",
       "75%     15096.500000  \n",
       "max    106425.000000  "
      ]
     },
     "execution_count": 4,
     "metadata": {},
     "output_type": "execute_result"
    }
   ],
   "source": [
    "df.describe()"
   ]
  },
  {
   "cell_type": "markdown",
   "metadata": {},
   "source": [
    "### (a) Extract the quantitative data and plot a histogram of these features\n",
    "\n",
    "- Generate a dataframe `Xdata` containing the following features:\n",
    "    - `fertility`\n",
    "    - `life`\n",
    "    - `population`\n",
    "    - `child_mortality`\n",
    "    - `gpd`\n",
    "- Plot a histogram of these features.\n"
   ]
  },
  {
   "cell_type": "code",
   "execution_count": 16,
   "metadata": {},
   "outputs": [
    {
     "name": "stdout",
     "output_type": "stream",
     "text": [
      "['fertility' 'life' 'population' 'child_mortality' 'gdp']\n",
      "      fertility    life  population  child_mortality      gdp\n",
      "31        7.832  52.400  19789880.0            152.3    872.0\n",
      "81        2.723  72.117   3141102.0             33.2   3941.0\n",
      "131       3.449  67.893  28291591.0             42.6   9168.0\n",
      "181       7.019  42.073  12105105.0            224.8   2859.0\n",
      "231       2.208  72.441     68642.0             19.7  17167.0\n",
      "...         ...     ...         ...              ...      ...\n",
      "8617      3.082  71.851  22034909.0             26.3  15390.0\n",
      "8667      2.676  72.284  74008073.0             41.2   2042.0\n",
      "8717      6.274  69.695   2596289.0             35.7   2788.0\n",
      "8767      6.209  40.967   8919456.0            174.7   2106.0\n",
      "8817      4.432  51.378  11684693.0             82.0   2416.0\n",
      "\n",
      "[178 rows x 5 columns]\n"
     ]
    },
    {
     "data": {
      "text/plain": [
       "array([[<AxesSubplot:title={'center':'gdp'}>]], dtype=object)"
      ]
     },
     "execution_count": 16,
     "metadata": {},
     "output_type": "execute_result"
    },
    {
     "data": {
      "image/png": "[encoded data removed]",
      "text/plain": [
       "<Figure size 360x360 with 1 Axes>"
      ]
     },
     "metadata": {
      "needs_background": "light"
     },
     "output_type": "display_data"
    },
    {
     "data": {
      "image/png": "[encoded data removed]",
      "text/plain": [
       "<Figure size 360x360 with 1 Axes>"
      ]
     },
     "metadata": {
      "needs_background": "light"
     },
     "output_type": "display_data"
    },
    {
     "data": {
      "image/png": "[encoded data removed]",
      "text/plain": [
       "<Figure size 360x360 with 1 Axes>"
      ]
     },
     "metadata": {
      "needs_background": "light"
     },
     "output_type": "display_data"
    },
    {
     "data": {
      "image/png": "[encoded data removed]",
      "text/plain": [
       "<Figure size 360x360 with 1 Axes>"
      ]
     },
     "metadata": {
      "needs_background": "light"
     },
     "output_type": "display_data"
    },
    {
     "data": {
      "image/png": "[encoded data removed]",
      "text/plain": [
       "<Figure size 360x360 with 1 Axes>"
      ]
     },
     "metadata": {
      "needs_background": "light"
     },
     "output_type": "display_data"
    }
   ],
   "source": [
    "features=df.columns[2:7].values\n",
    "print(features)\n",
    "\n",
    "## Enter your code here\n",
    "\n",
    "Xdata=pd.DataFrame(data=df, columns=features)\n",
    "\n",
    "print (Xdata)\n",
    "\n",
    "Xdata.hist(column='child_mortality', grid=False, figsize=(5,5), zorder=2, rwidth=0.9)\n",
    "Xdata.hist(column='fertility', grid=False, figsize=(5,5), zorder=2, rwidth=0.9)\n",
    "Xdata.hist(column='life', grid=False, figsize=(5,5), zorder=2, rwidth=0.9)\n",
    "Xdata.hist(column='population', grid=False, figsize=(5,5), zorder=2, rwidth=0.9)\n",
    "Xdata.hist(column='gdp', grid=False, figsize=(5,5), zorder=2, rwidth=0.9)\n",
    "\n"
   ]
  },
  {
   "cell_type": "markdown",
   "metadata": {},
   "source": [
    "### (b) Scale this dataset `Xdata` using a `PowerTransformer`\n",
    "- Generate a pipeline consisting of the `MinMaxScaler()` and the `PowerTransformer()`\n",
    "- Fit the pipeline to the dataset `Xdata`-"
   ]
  },
  {
   "cell_type": "code",
   "execution_count": 6,
   "metadata": {},
   "outputs": [],
   "source": [
    "from sklearn.preprocessing import PowerTransformer, MinMaxScaler\n",
    "from sklearn.pipeline import make_pipeline\n",
    "\n",
    "myPipeline=make_pipeline(MinMaxScaler(), PowerTransformer())\n",
    "\n",
    "# enter your code here\n",
    "Xnew = myPipeline.fit_transform(Xdata)"
   ]
  },
  {
   "cell_type": "markdown",
   "metadata": {},
   "source": [
    "### (d) Use PCA to reduce the scaled dataset to two dimensions and display the data as a scatter plot.\n",
    "\n",
    "- Use the feature `child_mortality` as marker color and `gpd` as size of the marker using `plt.scatter(..., c=df.child_mortality, s=df.gdp/100, cmap=\"jet\")`"
   ]
  },
  {
   "cell_type": "code",
   "execution_count": 7,
   "metadata": {},
   "outputs": [
    {
     "data": {
      "text/plain": [
       "<matplotlib.collections.PathCollection at 0x16bbf07c5b0>"
      ]
     },
     "execution_count": 7,
     "metadata": {},
     "output_type": "execute_result"
    },
    {
     "data": {
      "image/png": "[encoded data removed]",
      "text/plain": [
       "<Figure size 432x288 with 1 Axes>"
      ]
     },
     "metadata": {
      "needs_background": "light"
     },
     "output_type": "display_data"
    }
   ],
   "source": [
    "from sklearn.decomposition import PCA\n",
    "\n",
    "#enter your code here\n",
    "myPCA=PCA(n_components=2)\n",
    "X_pca_reduced = myPCA.fit_transform(X=Xnew)\n",
    "\n",
    "plt.scatter(X_pca_reduced[:,0], X_pca_reduced[:,1], c=df.child_mortality, s=df.gdp/100, cmap=\"jet\")\n",
    "\n"
   ]
  },
  {
   "cell_type": "markdown",
   "metadata": {},
   "source": [
    "### (e) Use `TSNE` to reduce the scaled dataset to 2 dimensions and display the data as a scatter plot. \n",
    "\n",
    "- Use `TSNE` (t-distributed stochastic neighbour embedding) to reduce the dataset to 2 dimensions and display the transformed data as a scatter plot.\n",
    "- Use the feature `child_mortality` as marker color and `gpd` as size of the marker using `plt.scatter(..., c=df.child_mortality, s=df.gdp/100, cmap=\"jet\")`\n",
    "\n",
    "*Hint: if you don't manage to transform the data to two dimensions, uncomment the lines of code in cell [10] and read directly the reduced dataset `GapMinderReduced.csv`.*\n"
   ]
  },
  {
   "cell_type": "code",
   "execution_count": 10,
   "metadata": {},
   "outputs": [
    {
     "data": {
      "text/plain": [
       "<matplotlib.collections.PathCollection at 0x16bc1547640>"
      ]
     },
     "execution_count": 10,
     "metadata": {},
     "output_type": "execute_result"
    },
    {
     "data": {
      "image/png": "[encoded data removed]",
      "text/plain": [
       "<Figure size 432x288 with 1 Axes>"
      ]
     },
     "metadata": {
      "needs_background": "light"
     },
     "output_type": "display_data"
    }
   ],
   "source": [
    "tsne = TSNE(n_components=2, random_state=42)\n",
    "\n",
    "#enter your code here\n",
    "X_reduced = tsne.fit_transform(X=Xnew)\n",
    "\n",
    "plt.scatter(X_reduced[:,0], X_reduced[:,1], c=df.child_mortality, s=df.gdp/100, cmap=\"jet\")"
   ]
  },
  {
   "cell_type": "code",
   "execution_count": 11,
   "metadata": {},
   "outputs": [],
   "source": [
    "# This is CELL [10]\n",
    "# if you don't manage to transform the data in two dimensions, continue with this cell and read directly the reduced dataset.\n",
    "\n",
    "#dg=pd.read_csv('GapMinderReduced.csv',index_col=0)\n",
    "#dg.head()\n",
    "\n",
    "#X_reduced=dg.values\n",
    "#plt.figure()\n",
    "#plt.scatter(X_reduced[:, 0], X_reduced[:, 1], c=df.child_mortality, s=df.gdp/100, cmap=\"jet\")\n",
    "#plt.colorbar()\n"
   ]
  },
  {
   "cell_type": "markdown",
   "metadata": {},
   "source": [
    "### (f) Cluster the TSNE-reduced data using `kMeans`.\n",
    "- Plot the cluster inertia (`kmeans.ineria_`) as function of the number of clusters for `k=1` to `k=12`.\n",
    "- What is the optimum number of clusters $k_{\\mathrm{opt}}$ according to the elbow criterium?\n"
   ]
  },
  {
   "cell_type": "code",
   "execution_count": 34,
   "metadata": {},
   "outputs": [
    {
     "data": {
      "text/plain": [
       "[<matplotlib.lines.Line2D at 0x1c2896e2a00>]"
      ]
     },
     "execution_count": 34,
     "metadata": {},
     "output_type": "execute_result"
    },
    {
     "data": {
      "image/png": "[encoded data removed]",
      "text/plain": [
       "<Figure size 432x288 with 1 Axes>"
      ]
     },
     "metadata": {
      "needs_background": "light"
     },
     "output_type": "display_data"
    }
   ],
   "source": [
    "from sklearn.cluster import KMeans\n",
    "\n",
    "inertiaList=[]\n",
    "kmax=12\n",
    "\n",
    "# enter your code here\n",
    "\n",
    "# Calculating the cluster inertia for k-values between 1 and 12\n",
    "for i in range(1, kmax):  \n",
    "    kmeans = KMeans(n_clusters=i)\n",
    "    kmeans.fit(X_reduced)\n",
    "    inertiaList.append(kmeans.inertia_)\n",
    "    \n",
    "plt.plot(list(range(1, kmax)), inertiaList)"
   ]
  },
  {
   "cell_type": "markdown",
   "metadata": {},
   "source": [
    "Answer: optimal K is 3"
   ]
  },
  {
   "cell_type": "markdown",
   "metadata": {},
   "source": [
    "## Upload this notebook as ipynb-File and as html-File (File  →  Download as  →  HTML) to the upload field of this question (2 files are allowed). \n"
   ]
  },
  {
   "cell_type": "code",
   "execution_count": null,
   "metadata": {},
   "outputs": [],
   "source": []
  }
 ],
 "metadata": {
  "kernelspec": {
   "display_name": "Python 3",
   "language": "python",
   "name": "python3"
  },
  "language_info": {
   "codemirror_mode": {
    "name": "ipython",
    "version": 3
   },
   "file_extension": ".py",
   "mimetype": "text/x-python",
   "name": "python",
   "nbconvert_exporter": "python",
   "pygments_lexer": "ipython3",
   "version": "3.8.5"
  }
 },
 "nbformat": 4,
 "nbformat_minor": 4
}
